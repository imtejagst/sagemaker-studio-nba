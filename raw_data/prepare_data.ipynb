{
 "cells": [
  {
   "cell_type": "code",
   "execution_count": 2,
   "metadata": {},
   "outputs": [],
   "source": [
    "import boto3\n",
    "import os                                         # For manipulating filepath names\n",
    "import numpy as np                                # For matrix operations and numerical processing\n",
    "import pandas as pd                               # For munging tabular data"
   ]
  },
  {
   "cell_type": "code",
   "execution_count": 117,
   "metadata": {},
   "outputs": [],
   "source": [
    "#To find latest dataset go to https://data.fivethirtyeight.com/\n",
    "#Read in csv file from local storage\n",
    "df = pd.read_csv('nba_elo.csv')"
   ]
  },
  {
   "cell_type": "code",
   "execution_count": 118,
   "metadata": {},
   "outputs": [],
   "source": [
    "#Reduce DF to only take last 10 years\n",
    "df = df[df.season>2011]\n",
    "df = df[['season','neutral','team1','team2','elo1_pre','elo2_pre','score1','score2']]"
   ]
  },
  {
   "cell_type": "code",
   "execution_count": 119,
   "metadata": {},
   "outputs": [],
   "source": [
    "#Create row for score difference\n",
    "df['point_diff'] = df['score1']-df['score2']"
   ]
  },
  {
   "cell_type": "code",
   "execution_count": 120,
   "metadata": {},
   "outputs": [],
   "source": [
    "#Get all unique teams so we can calulate percentage in last 10 games\n",
    "all_teams = df['team1'].unique()"
   ]
  },
  {
   "cell_type": "code",
   "execution_count": 123,
   "metadata": {},
   "outputs": [],
   "source": [
    "last_10 = {}\n",
    "for team in all_teams:\n",
    "    last_10[team] = [.5,.5,.5,.5,.5,.5,.5,.5,.5,.5]"
   ]
  },
  {
   "cell_type": "code",
   "execution_count": 124,
   "metadata": {},
   "outputs": [],
   "source": [
    "team1_last10 = []\n",
    "team2_last10 = []\n",
    "for index, row in df.iterrows():\n",
    "    team1 = row['team1']\n",
    "    team2 = row['team2']\n",
    "    team1_last10.append((sum(last_10[team1])/10))\n",
    "    team2_last10.append((sum(last_10[team2])/10))\n",
    "    if(row['point_diff']>1):\n",
    "        last_10[team1]=last_10[team1][1:]\n",
    "        last_10[team1].append(1)\n",
    "        last_10[team2]=last_10[team2][1:]\n",
    "        last_10[team2].append(0)\n",
    "    else:\n",
    "        last_10[team1]=last_10[team1][1:]\n",
    "        last_10[team1].append(0)\n",
    "        last_10[team2]=last_10[team2][1:]\n",
    "        last_10[team2].append(1)\n",
    "df['team1_last10'] = team1_last10\n",
    "df['team2_last10'] = team2_last10"
   ]
  },
  {
   "cell_type": "code",
   "execution_count": 127,
   "metadata": {},
   "outputs": [],
   "source": [
    "final_df = df[['point_diff','season','neutral','elo1_pre','elo2_pre','team1_last10','team2_last10']]"
   ]
  },
  {
   "cell_type": "code",
   "execution_count": 130,
   "metadata": {},
   "outputs": [],
   "source": [
    "final_df.to_csv('nba_data.csv',header=True)"
   ]
  },
  {
   "cell_type": "code",
   "execution_count": null,
   "metadata": {},
   "outputs": [],
   "source": []
  }
 ],
 "metadata": {
  "instance_type": "ml.t3.medium",
  "kernelspec": {
   "display_name": "Python 3 (PyTorch CPU Optimized)",
   "language": "python",
   "name": "python3__SAGEMAKER_INTERNAL__arn:aws:sagemaker:us-east-1:081325390199:image/pytorch-1.4-cpu-py36"
  },
  "language_info": {
   "codemirror_mode": {
    "name": "ipython",
    "version": 3
   },
   "file_extension": ".py",
   "mimetype": "text/x-python",
   "name": "python",
   "nbconvert_exporter": "python",
   "pygments_lexer": "ipython3",
   "version": "3.6.6"
  }
 },
 "nbformat": 4,
 "nbformat_minor": 4
}
